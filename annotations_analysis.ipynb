{
 "cells": [
  {
   "cell_type": "code",
   "execution_count": 1,
   "metadata": {
    "collapsed": true
   },
   "outputs": [
    {
     "name": "stderr",
     "output_type": "stream",
     "text": [
      "/home/piotrek/.pyenv/versions/3.8.6/envs/hack4env/lib/python3.8/site-packages/geopandas/_compat.py:84: UserWarning: The Shapely GEOS version (3.8.0-CAPI-1.13.1 ) is incompatible with the GEOS version PyGEOS was compiled with (3.8.1-CAPI-1.13.3). Conversions between both will be slow.\n",
      "  warnings.warn(\n"
     ]
    }
   ],
   "source": [
    "import geopandas as gpd\n",
    "import pandas as pd\n",
    "\n",
    "import json\n",
    "\n",
    "import numpy as np\n",
    "from shapely.geometry import Point"
   ]
  },
  {
   "cell_type": "code",
   "execution_count": 2,
   "outputs": [],
   "source": [
    "with open('data/jsondata.json') as f:\n",
    "    json_data = json.load(f)"
   ],
   "metadata": {
    "collapsed": false,
    "pycharm": {
     "name": "#%%\n"
    }
   }
  },
  {
   "cell_type": "code",
   "execution_count": 3,
   "outputs": [],
   "source": [
    "features = json_data['features']"
   ],
   "metadata": {
    "collapsed": false,
    "pycharm": {
     "name": "#%%\n"
    }
   }
  },
  {
   "cell_type": "code",
   "execution_count": 4,
   "outputs": [],
   "source": [
    "properties = [x['properties'] for x in features]"
   ],
   "metadata": {
    "collapsed": false,
    "pycharm": {
     "name": "#%%\n"
    }
   }
  },
  {
   "cell_type": "code",
   "execution_count": 5,
   "outputs": [],
   "source": [
    "df = pd.DataFrame.from_records(properties)"
   ],
   "metadata": {
    "collapsed": false,
    "pycharm": {
     "name": "#%%\n"
    }
   }
  },
  {
   "cell_type": "code",
   "execution_count": 6,
   "outputs": [],
   "source": [
    "with open(\"data/jsondata.json\") as f:\n",
    "    js = json.load(f)\n",
    "    coords = [feat['geometry']['coordinates'] for feat in js['features']]\n",
    "    ble = [Point(c) for c in coords]\n",
    "    coords_np = np.array([c[::-1] for c in coords])\n",
    "\n",
    "    world = gpd.read_file(gpd.datasets.get_path('naturalearth_lowres'))\n",
    "    df1 = gpd.GeoDataFrame(gpd.GeoSeries(ble), columns=['geometry'], crs=\"EPSG:4326\")\n",
    "    result = gpd.sjoin(df1, world, how='left')"
   ],
   "metadata": {
    "collapsed": false,
    "pycharm": {
     "name": "#%%\n"
    }
   }
  },
  {
   "cell_type": "code",
   "execution_count": 16,
   "outputs": [],
   "source": [
    "full_df = df.join(result)"
   ],
   "metadata": {
    "collapsed": false,
    "pycharm": {
     "name": "#%%\n"
    }
   }
  },
  {
   "cell_type": "code",
   "execution_count": 17,
   "outputs": [],
   "source": [
    "full_df['annots_count'] = full_df['result_string'].apply(lambda x: len(x.split(sep=',')) - 1)"
   ],
   "metadata": {
    "collapsed": false,
    "pycharm": {
     "name": "#%%\n"
    }
   }
  },
  {
   "cell_type": "code",
   "execution_count": 18,
   "outputs": [],
   "source": [
    "full_df['smieci_count'] = full_df['result_string'].apply(lambda x: sum([int(y.split(sep=' ')[1]) for y in x.split(sep=',')[:-1]]))"
   ],
   "metadata": {
    "collapsed": false,
    "pycharm": {
     "name": "#%%\n"
    }
   }
  },
  {
   "cell_type": "code",
   "execution_count": 19,
   "outputs": [],
   "source": [
    "brits = full_df[full_df['name'] == 'United Kingdom']"
   ],
   "metadata": {
    "collapsed": false,
    "pycharm": {
     "name": "#%%\n"
    }
   }
  },
  {
   "cell_type": "code",
   "execution_count": 21,
   "outputs": [
    {
     "data": {
      "text/plain": "United Kingdom              26990\nNetherlands                 17358\nIreland                      3456\nUnited States of America     1378\nAustralia                     980\nAustria                       747\nPuerto Rico                   355\nVietnam                       252\nSwitzerland                   103\nCanada                         94\nMalawi                         70\nBelgium                        53\nFinland                        32\nPortugal                       28\nNorway                         26\nGermany                        14\nPhilippines                    14\nSlovakia                       11\nEcuador                         7\nFrance                          7\nSpain                           3\nItaly                           2\nGhana                           1\nCroatia                         1\nPoland                          1\nHungary                         1\nSuriname                        1\nName: name, dtype: int64"
     },
     "execution_count": 21,
     "metadata": {},
     "output_type": "execute_result"
    }
   ],
   "source": [
    "full_df['name'].value_counts()"
   ],
   "metadata": {
    "collapsed": false,
    "pycharm": {
     "name": "#%%\n"
    }
   }
  },
  {
   "cell_type": "code",
   "execution_count": 20,
   "outputs": [
    {
     "data": {
      "text/plain": "1      18921\n2       3682\n3       1279\n0       1049\n4        750\n5        366\n6        268\n7        161\n8        110\n9         84\n10        58\n11        50\n12        41\n13        27\n15        26\n16        21\n14        20\n17        12\n21         9\n22         8\n20         6\n19         6\n18         5\n25         4\n26         4\n23         3\n32         3\n30         3\n36         2\n27         2\n44         1\n45         1\n38         1\n28         1\n184        1\n100        1\n52         1\n35         1\n50         1\n31         1\nName: smieci_count, dtype: int64"
     },
     "execution_count": 20,
     "metadata": {},
     "output_type": "execute_result"
    }
   ],
   "source": [
    "brits['smieci_count'].value_counts()"
   ],
   "metadata": {
    "collapsed": false,
    "pycharm": {
     "name": "#%%\n"
    }
   }
  },
  {
   "cell_type": "code",
   "execution_count": 55,
   "outputs": [
    {
     "data": {
      "text/plain": "15       food.plasticFoodPackaging 1,food.crisp_small 1...\n16                                        smoking.butts 1,\n17                   smoking.butts 1,food.sweetWrappers 1,\n18       smoking.butts 1,food.sweetWrappers 1,food.pape...\n19       smoking.cigaretteBox 1,food.sweetWrappers 1,fo...\n                               ...                        \n56462                                alcohol.wineBottle 1,\n56463                       softdrinks.fizzyDrinkBottle 1,\n56555                                    dumping.medium 1,\n56556                                     dumping.small 2,\n56557              other.random_litter 1,dumping.medium 1,\nName: result_string, Length: 26990, dtype: object"
     },
     "execution_count": 55,
     "metadata": {},
     "output_type": "execute_result"
    }
   ],
   "source": [
    "brits['result_string']"
   ],
   "metadata": {
    "collapsed": false,
    "pycharm": {
     "name": "#%%\n"
    }
   }
  },
  {
   "cell_type": "code",
   "execution_count": null,
   "outputs": [],
   "source": [
    "brits['dumping.large' in brits['result_string']]"
   ],
   "metadata": {
    "collapsed": false,
    "pycharm": {
     "name": "#%%\n"
    }
   }
  },
  {
   "cell_type": "code",
   "execution_count": 51,
   "outputs": [
    {
     "name": "stdout",
     "output_type": "stream",
     "text": [
      "brands.lidl 1\n",
      "brands.corona 1\n",
      "brands.tesco 3\n",
      "brands.guinness 1\n",
      "brands.volvic 1\n",
      "brands.coke 3\n",
      "brands.costa 3\n",
      "brands.kfc 2\n",
      "brands.drpepper 1\n",
      "brands.adidas 1\n",
      "brands.cadburys 3\n",
      "brands.tesco 4\n",
      "brands.doritos 1\n",
      "brands.costa 4\n",
      "brands.budweiser 3\n",
      "brands.cadburys 1\n",
      "brands.redbull 1\n",
      "brands.stella 4\n",
      "brands.costa 2\n",
      "brands.aldi 1\n",
      "brands.starbucks 2\n",
      "brands.redbull 4\n",
      "brands.burgerking 3\n",
      "brands.mcdonalds 6\n",
      "brands.stella 1\n",
      "brands.mcdonalds 11\n",
      "brands.spar 1\n",
      "brands.mcdonalds 1\n",
      "brands.mcdonalds 5\n",
      "brands.nestle 1\n",
      "brands.mcdonalds 4\n",
      "brands.pepsi 1\n",
      "brands.redbull 2\n",
      "brands.walkers 1\n",
      "brands.redbull 3\n",
      "brands.lucozade 1\n",
      "brands.haribo 1\n",
      "brands.doritos 3\n",
      "brands.cadburys 2\n",
      "brands.samsung 1\n",
      "brands.corona 2\n",
      "brands.costa 1\n",
      "brands.stella 5\n",
      "brands.kfc 3\n",
      "brands.cafe_nero 1\n",
      "brands.mcdonalds 10\n",
      "brands.amazon 1\n",
      "brands.kellogs 1\n",
      "brands.gatorade 1\n",
      "brands.tesco 2\n",
      "brands.budweiser 1\n",
      "brands.subway 1\n",
      "brands.kfc 1\n",
      "brands.bulmers 1\n",
      "brands.burgerking 1\n",
      "brands.mars 2\n",
      "brands.ribena 1\n",
      "brands.heineken 1\n",
      "brands.mcdonalds 3\n",
      "brands.carlsberg 3\n",
      "brands.carlsberg 12\n",
      "brands.mcdonalds 9\n",
      "brands.lucozade 3\n",
      "brands.coke 2\n",
      "brands.coke 1\n",
      "brands.marlboro 1\n",
      "brands.mcdonalds 12\n",
      "brands.colgate 1\n",
      "brands.stella 2\n",
      "brands.mcdonalds 18\n",
      "brands.mcdonalds 17\n",
      "brands.burgerking 2\n",
      "brands.nescafe 1\n",
      "brands.mcdonalds 7\n",
      "brands.lucozade 2\n",
      "brands.carlsberg 1\n",
      "brands.pepsi 2\n",
      "brands.subway 3\n",
      "brands.wrigleys 1\n",
      "brands.stella 7\n",
      "brands.starbucks 1\n",
      "brands.mars 1\n",
      "brands.mcdonalds 2\n",
      "brands.sainsburys 1\n",
      "brands.tesco 1\n"
     ]
    }
   ],
   "source": [
    "categories = set()\n",
    "\n",
    "for row in brits['result_string']:\n",
    "    categories.update(row.split(sep=',')[:-1])\n",
    "\n",
    "for x in categories:\n",
    "    if 'brand' in x:\n",
    "        print(x)"
   ],
   "metadata": {
    "collapsed": false,
    "pycharm": {
     "name": "#%%\n"
    }
   }
  }
 ],
 "metadata": {
  "kernelspec": {
   "display_name": "Python 3",
   "language": "python",
   "name": "python3"
  },
  "language_info": {
   "codemirror_mode": {
    "name": "ipython",
    "version": 2
   },
   "file_extension": ".py",
   "mimetype": "text/x-python",
   "name": "python",
   "nbconvert_exporter": "python",
   "pygments_lexer": "ipython2",
   "version": "2.7.6"
  }
 },
 "nbformat": 4,
 "nbformat_minor": 0
}